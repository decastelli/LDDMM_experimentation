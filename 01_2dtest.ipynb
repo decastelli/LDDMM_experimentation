{
 "cells": [
  {
   "cell_type": "code",
   "execution_count": null,
   "id": "4a90e7bc",
   "metadata": {},
   "outputs": [],
   "source": [
    "import torch\n",
    "import matplotlib.pyplot as plt\n",
    "import numpy as np\n",
    "import odl\n",
    "import pykeops\n",
    "import imageio"
   ]
  },
  {
   "cell_type": "code",
   "execution_count": null,
   "id": "b638eaf9",
   "metadata": {},
   "outputs": [
    {
     "name": "stdout",
     "output_type": "stream",
     "text": [
      "torch.Size([256, 256, 2])\n"
     ]
    },
    {
     "data": {
      "image/png": "[encoded data removed]",
      "text/plain": [
       "<Figure size 640x480 with 1 Axes>"
      ]
     },
     "metadata": {},
     "output_type": "display_data"
    }
   ],
   "source": [
    "N = 256\n",
    "x = torch.linspace(-1, 1, N)\n",
    "y = torch.linspace(-1, 1, N)\n",
    "X, Y = torch.meshgrid(x, y, indexing='ij')  # 'ij' para convención matricial\n",
    "\n",
    "# Si quieres un tensor de shape (N, N, 2) con coordenadas\n",
    "grid = torch.stack((X, Y), dim=-1)\n",
    "\n",
    "print(grid.shape)  # -> torch.Size([128, 128, 2])\n",
    "\n",
    "\n",
    "I0 = torch.where(grid[:, :, 0]**2/0.5 + grid[:, :, 1]**2/0.99 <=1, 1.0, 0.0)\n",
    "\n",
    "plt.imshow(I0.cpu(), cmap='gray')\n",
    "plt.show()\n",
    "\n",
    "I0 = I0.unsqueeze(0).unsqueeze(0)  "
   ]
  },
  {
   "cell_type": "code",
   "execution_count": null,
   "id": "5bdd754e",
   "metadata": {},
   "outputs": [],
   "source": [
    "from torch.nn.functional import grid_sample"
   ]
  },
  {
   "cell_type": "code",
   "execution_count": null,
   "id": "d034d8af",
   "metadata": {},
   "outputs": [],
   "source": [
    "def build_displacement_field(t, shape):\n",
    "\n",
    "    H, W = shape\n",
    "    \n",
    "    ys = torch.linspace(-1, 1, H)\n",
    "    xs = torch.linspace(-1, 1, W)\n",
    "    Y, X = torch.meshgrid(ys, xs, indexing='ij')\n",
    "    \n",
    "    fphi = 1.0  \n",
    "    \n",
    "    phi = 0.12 * np.sin(2*np.pi*fphi*t)\n",
    "\n",
    "    cx = (W-1)/2.0\n",
    "    cy = (H-1)/2.0\n",
    "    \n",
    "\n",
    "    coords_x = X * (W-1)/2.0 + cx\n",
    "    coords_y = Y * (H-1)/2.0 + cy\n",
    "    Xc = coords_x - cx\n",
    "    Yc = coords_y - cy\n",
    "    cosphi = np.cos(phi)\n",
    "    sinphi = np.sin(phi)\n",
    "    Xr = cosphi * Xc - sinphi * Yc\n",
    "    Yr = sinphi * Xc + cosphi * Yc\n",
    "    rot_dx = (Xr + cx) - coords_x\n",
    "    rot_dy = (Yr + cy) - coords_y\n",
    "    \n",
    "    \n",
    "    total_dx = rot_dx\n",
    "    total_dy = rot_dy\n",
    "    disp = torch.stack([total_dy, total_dx], axis=0)  # (2, H, W)\n",
    "    return disp"
   ]
  },
  {
   "cell_type": "code",
   "execution_count": null,
   "id": "f465f19d",
   "metadata": {},
   "outputs": [],
   "source": [
    "def warp_image_torch(img, disp):\n",
    "    N, C, H, W = img.shape\n",
    "    if disp.shape[0] == 2 and disp.shape[1] == H and disp.shape[2] == W:\n",
    "        dy = disp[0]\n",
    "        dx = disp[1]\n",
    "    elif disp.shape == (H, W, 2):\n",
    "        dx = disp[..., 0]\n",
    "        dy = disp[..., 1]\n",
    "    else:\n",
    "        raise ValueError(\"disp format not recognized\")\n",
    "    \n",
    "    grid_y, grid_x = torch.meshgrid(\n",
    "        torch.arange(H, dtype=torch.float32, device=img.device),\n",
    "        torch.arange(W, dtype=torch.float32, device=img.device),\n",
    "        indexing='ij'\n",
    "    )\n",
    "\n",
    "    coords_x = grid_x + dx\n",
    "    coords_y = grid_y + dy\n",
    "\n",
    "    coords_x = 2.0 * coords_x / (W - 1) - 1.0\n",
    "    coords_y = 2.0 * coords_y / (H - 1) - 1.0\n",
    "\n",
    "    coords = torch.stack((coords_x, coords_y), dim=-1)\n",
    "    coords = coords.unsqueeze(0)\n",
    "\n",
    "    warped = grid_sample(img, coords, mode='bilinear', align_corners=True)\n",
    "    return warped\n",
    "\n",
    "\n",
    "def integrate_flow(v_func, n_steps, shape, img):\n",
    "    H, W = shape\n",
    "    ys = torch.linspace(-1, 1, H)\n",
    "    xs = torch.linspace(-1, 1, W)\n",
    "    Y, X = torch.meshgrid(ys, xs, indexing='ij')\n",
    "    phi = torch.stack((Y, X), dim=-1)\n",
    "    warped_images = []\n",
    "    \n",
    "    dt = 1.0 / n_steps\n",
    "    \n",
    "    for i in range(n_steps):\n",
    "        t = i * dt\n",
    "        v_t = v_func[(t, shape)]\n",
    "        v_phi = torch.nn.functional.grid_sample(\n",
    "            v_t.permute(2, 0, 1).unsqueeze(0),\n",
    "            phi.unsqueeze(0), align_corners=True\n",
    "        )[0].permute(1, 2, 0)\n",
    "        phi = phi + dt * v_phi\n",
    "    \n",
    "    return phi\n",
    "\n",
    "def v_t_example(t, shape):\n",
    "    H, W = shape\n",
    "\n",
    "    ys = torch.linspace(-1, 1, H)\n",
    "    xs = torch.linspace(-1, 1, W)\n",
    "    Y, X = torch.meshgrid(ys, xs, indexing='ij')\n",
    "    \n",
    "    fphi = 1.0  \n",
    "    \n",
    "    phi = 0.12 * np.sin(2*np.pi*fphi*t)\n",
    "    phi_prime = 0.12* 2*np.pi*fphi* np.cos(2*np.pi*fphi*t)\n",
    "\n",
    "    cx = (W-1)/2.0\n",
    "    cy = (H-1)/2.0\n",
    "    \n",
    "\n",
    "    coords_x = X * (W-1)/2.0 + cx\n",
    "    coords_y = Y * (H-1)/2.0 + cy\n",
    "    Xc = coords_x - cx\n",
    "    Yc = coords_y - cy\n",
    "    cosphi = np.cos(phi)\n",
    "    sinphi = np.sin(phi)\n",
    "    Xr = -sinphi * phi_prime * Xc - cosphi * phi_prime * Yc\n",
    "    Yr = cosphi * phi_prime* Xc -sinphi * phi_prime  * Yc\n",
    "    v_t = torch.stack([Yr, Xr], dim=-1)\n",
    "    return v_t\n",
    "    "
   ]
  },
  {
   "cell_type": "code",
   "execution_count": null,
   "id": "6a77efc5",
   "metadata": {},
   "outputs": [],
   "source": [
    "T = 60\n",
    "ts = torch.linspace(0.0, 1.0, T)"
   ]
  },
  {
   "cell_type": "code",
   "execution_count": 1,
   "id": "d4e91fd2",
   "metadata": {},
   "outputs": [
    {
     "ename": "NameError",
     "evalue": "name 'I0' is not defined",
     "output_type": "error",
     "traceback": [
      "\u001b[31m---------------------------------------------------------------------------\u001b[39m",
      "\u001b[31mNameError\u001b[39m                                 Traceback (most recent call last)",
      "\u001b[36mCell\u001b[39m\u001b[36m \u001b[39m\u001b[32mIn[1]\u001b[39m\u001b[32m, line 1\u001b[39m\n\u001b[32m----> \u001b[39m\u001b[32m1\u001b[39m H, W = \u001b[43mI0\u001b[49m[\u001b[32m0\u001b[39m, \u001b[32m0\u001b[39m].shape\n\u001b[32m      4\u001b[39m phi, warped_images = integrate_flow(v_t_example, \u001b[32m100\u001b[39m, (H, W), I0)\n\u001b[32m      7\u001b[39m frames_uint8 = [(\u001b[32m255\u001b[39m * (f.numpy() - f.numpy().min()) / (f.numpy().max() - f.numpy().min())).astype(np.uint8) \n\u001b[32m      8\u001b[39m                 \u001b[38;5;28;01mfor\u001b[39;00m f \u001b[38;5;129;01min\u001b[39;00m warped_images]\n",
      "\u001b[31mNameError\u001b[39m: name 'I0' is not defined"
     ]
    }
   ],
   "source": [
    "H, W = I0[0, 0].shape\n",
    "\n",
    "\n",
    "phi, warped_images = integrate_flow(v_t_example, 100, (H, W), I0)\n",
    "\n",
    "\n",
    "frames_uint8 = [(255 * (f.numpy() - f.numpy().min()) / (f.numpy().max() - f.numpy().min())).astype(np.uint8) \n",
    "                for f in warped_images]\n",
    "\n",
    "\n",
    "imageio.mimsave(\"deformation_video.gif\", frames_uint8, fps=5)"
   ]
  }
 ],
 "metadata": {
  "kernelspec": {
   "display_name": ".venv_odl",
   "language": "python",
   "name": "python3"
  },
  "language_info": {
   "codemirror_mode": {
    "name": "ipython",
    "version": 3
   },
   "file_extension": ".py",
   "mimetype": "text/x-python",
   "name": "python",
   "nbconvert_exporter": "python",
   "pygments_lexer": "ipython3",
   "version": "3.11.7"
  }
 },
 "nbformat": 4,
 "nbformat_minor": 5
}
