{
 "cells": [
  {
   "cell_type": "code",
   "execution_count": 2,
   "id": "3fa14172",
   "metadata": {},
   "outputs": [
    {
     "name": "stdout",
     "output_type": "stream",
     "text": [
      "[KeOps] Warning : CUDA libraries not found or could not be loaded; Switching to CPU only.\n"
     ]
    }
   ],
   "source": [
    "import torch\n",
    "import matplotlib.pyplot as plt\n",
    "import numpy as np\n",
    "import odl\n",
    "import pykeops\n",
    "import imageio\n",
    "from torch.autograd import grad\n",
    "from torch.nn.functional import grid_sample\n",
    "\n",
    "import math\n",
    "from pykeops.torch import LazyTensor\n",
    "\n",
    "device = torch.device(\"cuda\" if torch.cuda.is_available() else \"cpu\")"
   ]
  },
  {
   "cell_type": "code",
   "execution_count": 3,
   "id": "7775edb9",
   "metadata": {},
   "outputs": [
    {
     "name": "stdout",
     "output_type": "stream",
     "text": [
      "torch.Size([64, 64, 2])\n"
     ]
    },
    {
     "data": {
      "image/png": "[encoded data removed]",
      "text/plain": [
       "<Figure size 640x480 with 1 Axes>"
      ]
     },
     "metadata": {},
     "output_type": "display_data"
    },
    {
     "data": {
      "image/png": "[encoded data removed]",
      "text/plain": [
       "<Figure size 640x480 with 1 Axes>"
      ]
     },
     "metadata": {},
     "output_type": "display_data"
    }
   ],
   "source": [
    "H, W = 64, 64\n",
    "x = torch.linspace(-1, 1, H)\n",
    "y = torch.linspace(-1, 1, W)\n",
    "X, Y = torch.meshgrid(x, y, indexing='ij')  \n",
    "grid = torch.stack((X, Y), dim=-1)\n",
    "\n",
    "print(grid.shape)\n",
    "\n",
    "\n",
    "I0 = torch.where(grid[:, :, 0]**2/0.5 + grid[:, :, 1]**2/0.99 <=1, 1.0, 0.0)\n",
    "\n",
    "plt.imshow(I0.cpu(), cmap='gray')\n",
    "plt.show()\n",
    "I1 = torch.where((torch.abs(grid[...,0]) <= 0.7) & (torch.abs(grid[...,1]) <= 0.7), 1.0, 0.0)\n",
    "\n",
    "plt.imshow(I1.cpu(), cmap='gray')\n",
    "plt.show()\n"
   ]
  },
  {
   "cell_type": "code",
   "execution_count": 4,
   "id": "db157d17",
   "metadata": {},
   "outputs": [],
   "source": [
    "def warp_image_torch(img, disp):\n",
    "    \"\"\"\n",
    "    img: 1 x 1 H x W\n",
    "    disp: H x W x 2\n",
    "    \"\"\"\n",
    "    N, C, H, W = img.shape\n",
    "    if disp.shape[0] == 2 and disp.shape[1] == H and disp.shape[2] == W:\n",
    "        dy = disp[0]\n",
    "        dx = disp[1]\n",
    "    elif disp.shape == (H, W, 2):\n",
    "        dx = disp[..., 0]\n",
    "        dy = disp[..., 1]\n",
    "    else:\n",
    "        raise ValueError(\"disp format not recognized\")\n",
    "    \n",
    "    grid_y, grid_x = torch.meshgrid(\n",
    "        torch.arange(H, dtype=torch.float32, device=img.device),\n",
    "        torch.arange(W, dtype=torch.float32, device=img.device),\n",
    "        indexing='ij'\n",
    "    )\n",
    "\n",
    "    coords_x = grid_x + dx\n",
    "    coords_y = grid_y + dy\n",
    "\n",
    "    coords_x = 2.0 * coords_x / (W - 1) - 1.0\n",
    "    coords_y = 2.0 * coords_y / (H - 1) - 1.0\n",
    "\n",
    "    coords = torch.stack((coords_x, coords_y), dim=-1)\n",
    "    coords = coords.unsqueeze(0)\n",
    "\n",
    "    warped = grid_sample(img, coords, mode='bilinear', align_corners=True)[0, 0]\n",
    "    return warped # H x W\n",
    "\n",
    "\n",
    "def integrate_flow(v_func, n_steps, shape):\n",
    "    \"\"\"v_t: n_steps x H x W x 2\"\"\"\n",
    "    H, W = shape\n",
    "    ys = torch.linspace(-1, 1, H)\n",
    "    xs = torch.linspace(-1, 1, W)\n",
    "    Y, X = torch.meshgrid(ys, xs, indexing='ij')\n",
    "    phi = torch.stack((Y, X), dim=-1)\n",
    "    dt = 1.0 / n_steps\n",
    "    for i in range(n_steps):\n",
    "        v_ti = v_func[i] \n",
    "        v_phi = torch.nn.functional.grid_sample(\n",
    "            v_ti.permute(2, 0, 1).unsqueeze(0),\n",
    "            phi.unsqueeze(0), align_corners=True\n",
    "        )[0].permute(1, 2, 0)\n",
    "        phi = phi + dt * v_phi\n",
    "    return phi # H x W x 2"
   ]
  },
  {
   "cell_type": "code",
   "execution_count": 5,
   "id": "31d01d2d",
   "metadata": {},
   "outputs": [],
   "source": [
    "\n",
    "def dataloss(I0, I1, n_steps, shape):\n",
    "    def __dataloss(v_t):\n",
    "        warped = warp_image_torch(I0.unsqueeze(0).unsqueeze(0), integrate_flow(v_t, n_steps, shape))\n",
    "        return torch.norm(warped - I1)**2\n",
    "    return __dataloss"
   ]
  },
  {
   "cell_type": "code",
   "execution_count": 6,
   "id": "bacacb10",
   "metadata": {},
   "outputs": [],
   "source": [
    "def regloss(grid, n_steps, sigma=0.1):\n",
    "    def __regloss(v_t):\n",
    "        coords = grid.view(-1, 2)\n",
    "        x_i = LazyTensor(coords[:, None, :]) \n",
    "        x_j = LazyTensor(coords[None, :, :]) \n",
    "        sqdist = ((x_i - x_j) ** 2).sum(-1)\n",
    "        Kij = (- sqdist / (2 * sigma**2)).exp()  \n",
    "        total = torch.tensor(0.0, device=v_t.device)\n",
    "        for t in range(n_steps):\n",
    "            v_j = LazyTensor(v_t[t].view(-1, 2)[None, :, :]) \n",
    "            K_v = (Kij * v_j).sum(dim=1)            \n",
    "            K_v = K_v.view(-1, 2)         \n",
    "            total += torch.sum((K_v ** 2).sum(dim=1))   \n",
    "        return total / n_steps\n",
    "    return __regloss\n",
    "\n",
    "\n",
    "def LDDMMloss(regloss, dataloss, gamma=0):\n",
    "    def loss(v_t):\n",
    "        return gamma * regloss(v_t) + dataloss(v_t)\n",
    "    return loss"
   ]
  },
  {
   "cell_type": "code",
   "execution_count": 7,
   "id": "d7324576",
   "metadata": {},
   "outputs": [],
   "source": [
    "n_steps = 32"
   ]
  },
  {
   "cell_type": "code",
   "execution_count": 15,
   "id": "7f6fb1c0",
   "metadata": {},
   "outputs": [
    {
     "name": "stdout",
     "output_type": "stream",
     "text": [
      "Epoch 0: Loss = 545.429810\n",
      "Epoch 1: Loss = 531.981812\n",
      "Epoch 2: Loss = 527.784973\n",
      "Epoch 3: Loss = 527.471313\n",
      "Epoch 4: Loss = 526.015259\n",
      "Epoch 5: Loss = 544.729736\n",
      "Epoch 6: Loss = 520.046570\n",
      "Epoch 7: Loss = 40365231296493912064.000000\n",
      "Epoch 8: Loss = 1785270295511171072.000000\n",
      "Epoch 9: Loss = 598517436592947200.000000\n"
     ]
    }
   ],
   "source": [
    "v_param = torch.nn.Parameter(torch.zeros(n_steps, W, H, 2, device=device))\n",
    "epochs = 10\n",
    "best_loss = float('inf')\n",
    "\n",
    "dl = dataloss(I0, I1, n_steps, (H, W))\n",
    "rl = regloss(grid, n_steps)\n",
    "L_fn = LDDMMloss(rl, dl, gamma=0.1)\n",
    "\n",
    "optimizer = torch.optim.LBFGS([v_param], lr=0.7, max_iter=20, max_eval=20)\n",
    "\n",
    "def closure():\n",
    "    optimizer.zero_grad()\n",
    "    L = L_fn(v_param)\n",
    "    L.backward()\n",
    "    return L\n",
    "\n",
    "for epoch in range(epochs):\n",
    "    loss_val = optimizer.step(closure)\n",
    "    print(f\"Epoch {epoch}: Loss = {loss_val.item():.6f}\")\n",
    "\n",
    "    # Guardar el mejor v_param hasta ahora\n",
    "    if loss_val.item() < best_loss:\n",
    "        best_loss = loss_val.item()\n",
    "        best_v = v_param.detach().clone()\n",
    "\n",
    "# Al final, usar el mejor campo de velocidades\n",
    "v_param.data = best_v"
   ]
  },
  {
   "cell_type": "code",
   "execution_count": null,
   "id": "a44094f9",
   "metadata": {},
   "outputs": [
    {
     "data": {
      "image/png": "[encoded data removed]",
      "text/plain": [
       "<Figure size 640x480 with 1 Axes>"
      ]
     },
     "metadata": {},
     "output_type": "display_data"
    }
   ],
   "source": [
    "phi = integrate_flow(v_param, n_steps, (H, W))\n",
    "warped = warp_image_torch(I0.unsqueeze(0).unsqueeze(0), phi)\n",
    "plt.imshow(warped.detach().cpu(), cmap='gray')\n",
    "plt.show()\n"
   ]
  }
 ],
 "metadata": {
  "kernelspec": {
   "display_name": ".venv_odl",
   "language": "python",
   "name": "python3"
  },
  "language_info": {
   "codemirror_mode": {
    "name": "ipython",
    "version": 3
   },
   "file_extension": ".py",
   "mimetype": "text/x-python",
   "name": "python",
   "nbconvert_exporter": "python",
   "pygments_lexer": "ipython3",
   "version": "3.11.7"
  }
 },
 "nbformat": 4,
 "nbformat_minor": 5
}
